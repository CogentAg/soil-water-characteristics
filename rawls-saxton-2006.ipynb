{
 "cells": [
  {
   "cell_type": "code",
   "execution_count": 1,
   "id": "263801b1-6048-4280-b5a8-2e4429784d6c",
   "metadata": {},
   "outputs": [],
   "source": [
    "import numpy as np"
   ]
  },
  {
   "cell_type": "code",
   "execution_count": 2,
   "id": "e9543a83-74db-43a3-a148-c2fc7c8ac50f",
   "metadata": {},
   "outputs": [],
   "source": [
    "def saxton_rawls(pSand, pClay, pOM):\n",
    "    \"\"\"\n",
    "    Saxton, K.E., & Rawls, W.J. (2006). Soil water characteristic estimates by texture and organic matter for hydrologic solutions.\n",
    "    Soil Science Society of America Journal, 70(5), 1569–1578. doi:10.2136/sssaj2005.0117. \n",
    "    \n",
    "    Inputs:\n",
    "        pSand : % Sand (by volume, decimal or integer 0–100)\n",
    "        pClay : % Clay (by volume, decimal or integer 0–100)\n",
    "        pOM   : % Organic Matter (by weight, decimal or integer 0–100)\n",
    "    \n",
    "    Returns:\n",
    "        dict with BD, LL15, DUL, SAT, SWCON, KSAT\n",
    "    \"\"\"\n",
    "    # convert to fraction\n",
    "    pSand = np.array(pSand, dtype=float) / 100.0\n",
    "    pClay = np.array(pClay, dtype=float) / 100.0\n",
    "    pOM   = np.array(pOM, dtype=float) / 100.0\n",
    "    \n",
    "    # LL15 (theta_1500)\n",
    "    theta_1500t = (-0.024*pSand + 0.487*pClay + 0.006*pOM +\n",
    "                   0.005*pSand*pOM - 0.013*pClay*pOM + \n",
    "                   0.068*pSand*pClay + 0.031)\n",
    "    LL15 = theta_1500t + (0.14*theta_1500t - 0.02)\n",
    "    LL15 = np.round(np.clip(LL15, 0.01, 0.99), 3)\n",
    "    \n",
    "    # DUL (theta_33)\n",
    "    theta_33t = (-0.251*pSand + 0.195*pClay + 0.011*pOM +\n",
    "                 0.006*pSand*pOM - 0.027*pClay*pOM +\n",
    "                 0.452*pSand*pClay + 0.299)\n",
    "    DUL = theta_33t + (1.283*theta_33t**2 - 0.374*theta_33t - 0.015)\n",
    "    DUL = np.round(np.clip(DUL, 0.01, 0.99), 3)\n",
    "    \n",
    "    # theta_sat33\n",
    "    theta_sat33t = (0.278*pSand + 0.034*pClay + 0.022*pOM -\n",
    "                    0.018*pSand*pOM - 0.027*pClay*pOM -\n",
    "                    0.584*pSand*pClay + 0.078)\n",
    "    theta_sat33 = theta_sat33t + (0.636*theta_sat33t - 0.107)\n",
    "    \n",
    "    # SAT\n",
    "    SAT = DUL + theta_sat33 - 0.097*pSand + 0.043\n",
    "    SAT = np.round(np.clip(SAT, 0.01, 0.99), 3)\n",
    "    \n",
    "    # Bulk density (BD)\n",
    "    BD = (1 - SAT) * 2.65\n",
    "    BD = np.round(np.clip(BD, 1.0, 2.1), 3)\n",
    "    \n",
    "    # ksat and SWCON\n",
    "    lambda_val = (np.log(DUL) - np.log(LL15)) / (np.log(1500) - np.log(33))\n",
    "    ksat = 1930 * ((SAT - DUL) ** (3 - lambda_val))\n",
    "    SWCON = np.round(0.15 + np.minimum(ksat, 75) / 100, 3)\n",
    "    \n",
    "    return {\n",
    "        \"BD\": BD,\n",
    "        \"LL15\": LL15 * 100,\n",
    "        \"DUL\": DUL * 100,\n",
    "        \"SAT\": SAT * 100,\n",
    "        \"SWCON\": SWCON * 100,\n",
    "        \"KSAT\": ksat\n",
    "    }"
   ]
  },
  {
   "cell_type": "code",
   "execution_count": 3,
   "id": "115497e4-f165-431e-936d-5fce9d86c6b7",
   "metadata": {},
   "outputs": [
    {
     "name": "stdout",
     "output_type": "stream",
     "text": [
      "{'BD': array([1.452, 1.455]), 'LL15': array([18.2, 18.2]), 'DUL': array([36.9, 36.9]), 'SAT': array([45.2, 45.1]), 'SWCON': array([16.7, 16.7]), 'KSAT': array([1.74968489, 1.69099362])}\n"
     ]
    }
   ],
   "source": [
    "# Example usage\n",
    "print(saxton_rawls([2,2], [30,30], [4,3]))"
   ]
  },
  {
   "cell_type": "code",
   "execution_count": 4,
   "id": "5e83f457-7a43-4365-9a25-ebec61c16b77",
   "metadata": {},
   "outputs": [
    {
     "name": "stdout",
     "output_type": "stream",
     "text": [
      "{'BD': np.float64(1.455), 'LL15': np.float64(18.2), 'DUL': np.float64(36.9), 'SAT': np.float64(45.1), 'SWCON': np.float64(16.7), 'KSAT': np.float64(1.690993619982495)}\n"
     ]
    }
   ],
   "source": [
    "print(saxton_rawls(2,30,3.5))"
   ]
  },
  {
   "cell_type": "code",
   "execution_count": null,
   "id": "00b93463-237a-4f28-ad42-59b549d00f35",
   "metadata": {},
   "outputs": [],
   "source": []
  }
 ],
 "metadata": {
  "kernelspec": {
   "display_name": "Python 3 (ipykernel)",
   "language": "python",
   "name": "python3"
  },
  "language_info": {
   "codemirror_mode": {
    "name": "ipython",
    "version": 3
   },
   "file_extension": ".py",
   "mimetype": "text/x-python",
   "name": "python",
   "nbconvert_exporter": "python",
   "pygments_lexer": "ipython3",
   "version": "3.13.2"
  }
 },
 "nbformat": 4,
 "nbformat_minor": 5
}
